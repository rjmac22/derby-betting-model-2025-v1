{
 "cells": [
  {
   "cell_type": "markdown",
   "id": "107214b5-32dd-4b38-9826-41fbc1c2ec94",
   "metadata": {},
   "source": [
    "# 🧹 Data Integrity Checkpoint (2019 Horse Racing Data)\n",
    "\n",
    "This is the first notebook in our horse racing modelling project.\n",
    "\n",
    "We’re using historical UK race data to learn how to build our own predictive models — the same way bookmakers, syndicates, and serious bettors do.\n",
    "\n",
    "But before we do any analysis or modelling, we need to ask:\n",
    "\n",
    "> 🧠 Can we trust this data?\n",
    "\n",
    "---\n",
    "\n",
    "## 📦 What’s This Dataset?\n",
    "\n",
    "This dataset was published on Kaggle and contains UK and Irish horse racing data from **1990 to 2020**, across two files per year:\n",
    "- `races_YEAR.csv` — one row per race\n",
    "- `horses_YEAR.csv` — one row per horse in a race\n",
    "\n",
    "Each horse entry includes odds, trainer, age, and finishing position.  \n",
    "Each race entry includes track, distance, conditions, and prize money.\n",
    "\n",
    "---\n",
    "\n",
    "## 📍 Why Are We Using It?\n",
    "\n",
    "- 🆓 It’s free and publicly available  \n",
    "- 🧠 It’s ideal for learning and prototyping  \n",
    "- 📊 It includes real-world race outcomes and betting prices  \n",
    "- 🏇 It’s detailed enough to build serious models — but simple enough for newcomers\n",
    "\n",
    "We’ve chosen to start with **just 2019** because:\n",
    "- It’s the last full \"normal\" season before COVID-19 disrupted the sport\n",
    "- It’s large enough to explore a wide range of race types\n",
    "- We can expand later if needed\n",
    "\n",
    "---\n",
    "\n",
    "## 🧭 Why This Still Matters (Even If It’s Old)\n",
    "\n",
    "Although this dataset stops in 2020, it’s perfect for learning:\n",
    "\n",
    "- We can explore patterns in elite races (like the Epsom Derby)\n",
    "- We can practice building models using real bookmaker odds and outcomes\n",
    "- We can learn which features matter — and which don’t\n",
    "\n",
    "Once we understand how to clean, analyse, and model this historical data, we’ll be better equipped to:\n",
    "- Scrape or buy live racecards for upcoming races\n",
    "- Apply our models to races happening today or in the future\n",
    "- Extend this project into other sports or betting formats\n",
    "\n",
    "This is our **training ground** — not the final product.\n",
    "\n",
    "---\n",
    "\n",
    "## 🔍 What This Notebook Will Do\n",
    "\n",
    "This notebook is not about modelling. It’s about **understanding**:\n",
    "- What the raw data really contains\n",
    "- What might be broken, missing, or misleading\n",
    "- What needs to be fixed or excluded\n",
    "\n",
    "This is about **building trust** in our data before using it.\n",
    "\n",
    "We’ll also begin answering:\n",
    "- What other data would we need to model specific races like the Epsom Derby?\n",
    "- What’s missing from this dataset (e.g. sectional times, pace, Betfair odds)?\n",
    "- When will scraping or paid data be required?\n",
    "\n",
    "This sets the foundation for every notebook that comes next.\n"
   ]
  },
  {
   "cell_type": "markdown",
   "id": "f7157064-acbc-4779-a772-bf7b88a5320c",
   "metadata": {},
   "source": [
    "## 📊 Data Integrity Notebook – Project Scope & Purpose\n",
    "\n",
    "### 🔍 What This Notebook Will Do\n",
    "\n",
    "This notebook is **not about modelling**.\n",
    "\n",
    "It’s about building **trust** in the raw data — understanding:\n",
    "- ✅ What the dataset actually contains (and what it doesn’t)\n",
    "- ⚠️ What might be broken, missing, or misleading\n",
    "- 🛠️ What needs to be cleaned, fixed, or excluded before modelling\n",
    "\n",
    "It’s a **prerequisite** for every notebook that follows.\n",
    "\n",
    "---\n",
    "\n",
    "### 📌 Why This Matters\n",
    "\n",
    "We don’t want to feed noisy, misunderstood, or biased data into a model — especially when working on a high-stakes goal like predicting the **2025 Epsom Derby**.\n",
    "\n",
    "Before we train or test anything, we want confidence that:\n",
    "- Column meanings are understood\n",
    "- Errors and placeholders are flagged or handled\n",
    "- We’ve focused on the fields relevant to our problem\n",
    "- The data makes sense in the context of UK flat racing\n",
    "\n",
    "---\n",
    "\n",
    "### ❓ Questions This Notebook Begins to Answer\n",
    "\n",
    "- What columns are usable right now, and which need more work?\n",
    "- What other data would we need to model specific races like the Derby?\n",
    "- What’s missing from this dataset (e.g. sectional times, pace, Betfair exchange data)?\n",
    "- When might scraping or paid APIs be required?\n",
    "\n",
    "---\n",
    "\n",
    "### 🔦 Scope of Checks\n",
    "\n",
    "We focus on columns that are **directly relevant** to our modelling goal:\n",
    "- Target variable: `position`\n",
    "- Inputs like `implied_prob`, `age`, ratings (`RPR`, `TR`, `OR`)\n",
    "- Identifiers used in joins or aggregation (`rid`, `horseName`)\n",
    "- Key categorical factors we may later encode (e.g. trainer, jockey)\n",
    "\n",
    "Other fields will be reviewed only **if and when** they become useful in later notebooks.\n"
   ]
  },
  {
   "cell_type": "markdown",
   "id": "f987e42f-8c26-4b31-9e62-ed4148f7669d",
   "metadata": {},
   "source": [
    "### 📘 On Understanding Column Definitions\n",
    "\n",
    "Where possible, we have **cross-referenced column meanings** with the dataset’s documentation (or source notes) to ensure accurate interpretation.\n",
    "\n",
    "We avoid guessing the meaning of ambiguous fields — especially those that could be mislabelled, translated, or context-specific to racing terminology.\n",
    "\n",
    "If documentation is missing or unclear, we either:\n",
    "- Investigate further using data patterns and external examples\n",
    "- Flag the field for deferred use until its meaning is verified\n",
    "\n",
    "This is essential for preventing bad assumptions and maintaining the integrity of our modelling pipeline."
   ]
  },
  {
   "cell_type": "markdown",
   "id": "7c45d67c-bc3d-477d-b164-9bb0c0e63164",
   "metadata": {},
   "source": [
    "## 📥 Step 1: Load the Raw CSV Files\n",
    "\n",
    "We’re starting with two files:\n",
    "\n",
    "- `races_2019.csv` — one row per race (course, date, distance, going, prize)\n",
    "- `horses_2019.csv` — one row per runner in a race (horse name, odds, position)\n",
    "\n",
    "We’ll begin by loading both and checking their shapes.\n",
    "\n",
    "This gives us a basic sense of scale — how many races, how many horses — and acts as a first **checkpoint** before we merge or explore anything further.\n"
   ]
  },
  {
   "cell_type": "code",
   "execution_count": 2,
   "id": "30fcf4e1-f410-4ac6-af1c-0325846db404",
   "metadata": {},
   "outputs": [
    {
     "name": "stdout",
     "output_type": "stream",
     "text": [
      "📁 Races dataset shape: (17307, 18)\n",
      "🐎 Horses dataset shape: (171849, 27)\n"
     ]
    }
   ],
   "source": [
    "import pandas as pd\n",
    "\n",
    "# Load the raw CSVs\n",
    "races = pd.read_csv(\"data/races_2019.csv\")\n",
    "horses = pd.read_csv(\"data/horses_2019.csv\")\n",
    "\n",
    "# Show shapes of both datasets\n",
    "print(\"📁 Races dataset shape:\", races.shape)\n",
    "print(\"🐎 Horses dataset shape:\", horses.shape)\n"
   ]
  },
  {
   "cell_type": "markdown",
   "id": "6367f5d2-0ef8-4f59-8a16-6296ddcccf39",
   "metadata": {},
   "source": [
    "### 📊 First Sanity Check: Do These Numbers Make Sense?\n",
    "\n",
    "- The `races_2019.csv` file contains **17,307 races**\n",
    "- The `horses_2019.csv` file contains **171,849 horses**\n",
    "\n",
    "That means we have, on average:\n",
    "\n",
    "$$\n",
    "\\frac{171,\\!849\\ \\text{horses}}{17,\\!307\\ \\text{races}} \\approx 9.9\\ \\text{horses per race}\n",
    "$$\n",
    "\n",
    "This is exactly what we expect:\n",
    "- Most UK races have **8–14 runners**, depending on race type, distance, and class\n",
    "- Some elite races (like the Derby) have large fields (16–20), but many everyday races have smaller ones (5–10)\n",
    "\n",
    "So these totals are consistent and suggest the dataset is **plausible and complete** at the top level.\n"
   ]
  },
  {
   "cell_type": "markdown",
   "id": "9e040259-df56-4558-af37-feeb8a7805f0",
   "metadata": {},
   "source": [
    "## 🔍 Step 2: Check for Missing Values\n",
    "\n",
    "Before we merge or model, we need to understand how clean the raw data is.\n",
    "\n",
    "We’ll look at each column in both datasets and count how many values are missing (`NaN` or empty cells). This helps us decide:\n",
    "\n",
    "- Which columns are safe to use as-is\n",
    "- Which ones might need cleaning, fixing, or removing\n",
    "- Whether any essential information (like track, result, or odds) is incomplete\n"
   ]
  },
  {
   "cell_type": "code",
   "execution_count": 5,
   "id": "96ceb850-8b73-4480-94b8-5f6eb0096db1",
   "metadata": {},
   "outputs": [
    {
     "name": "stdout",
     "output_type": "stream",
     "text": [
      "📁 Races: Missing values\n",
      "rid                0\n",
      "course             0\n",
      "time               0\n",
      "date               0\n",
      "title              0\n",
      "rclass          7225\n",
      "band           10095\n",
      "ages               0\n",
      "distance           0\n",
      "condition          1\n",
      "hurdles        12644\n",
      "prizes             0\n",
      "winningTime        0\n",
      "prize              2\n",
      "metric             0\n",
      "countryCode        0\n",
      "ncond              0\n",
      "class              0\n",
      "dtype: int64\n",
      "\n",
      "🐎 Horses: Missing values\n",
      "rid                  0\n",
      "horseName            0\n",
      "age                  0\n",
      "saddle             110\n",
      "decimalPrice         0\n",
      "isFav                0\n",
      "trainerName          0\n",
      "jockeyName           0\n",
      "position             0\n",
      "positionL        25219\n",
      "dist             42476\n",
      "weightSt             0\n",
      "weightLb             0\n",
      "overWeight      168665\n",
      "outHandicap     168628\n",
      "headGear        108472\n",
      "RPR              18651\n",
      "TR               63567\n",
      "OR               69860\n",
      "father               0\n",
      "mother               0\n",
      "gfather            170\n",
      "runners              0\n",
      "margin               0\n",
      "weight               0\n",
      "res_win              0\n",
      "res_place            0\n",
      "dtype: int64\n"
     ]
    }
   ],
   "source": [
    "# Show count of missing values in each column\n",
    "print(\"📁 Races: Missing values\")\n",
    "print(races.isnull().sum())\n",
    "\n",
    "print(\"\\n🐎 Horses: Missing values\")\n",
    "print(horses.isnull().sum())\n"
   ]
  },
  {
   "cell_type": "markdown",
   "id": "42130282-f018-4257-9315-85e0e4dfdbea",
   "metadata": {},
   "source": [
    "### 🧼 What’s Missing — and What It Means\n",
    "\n",
    "Let’s break down what the missing values tell us:\n",
    "\n",
    "---\n",
    "\n",
    "#### 📁 `races_2019.csv` (Race-level data)\n",
    "\n",
    "| Column         | Missing | Notes |\n",
    "|----------------|---------|-------|\n",
    "| `rclass`       | 7,225   | Race class text (e.g. “Group 1”) — not critical since we have numeric `class` |\n",
    "| `band`         | 10,095  | Often empty in higher-level races — not essential |\n",
    "| `hurdles`      | 12,644  | Most races don’t have jumps — this is fine and expected |\n",
    "| `condition`    | 1       | Only one missing going/ground value — we can handle it easily |\n",
    "| `prize`        | 2       | Minor — we’re not modelling on prize money directly |\n",
    "| ✅ **No missing values** in: `rid`, `course`, `date`, `distance`, `class`, `metric` — **excellent**\n",
    "\n",
    "---\n",
    "\n",
    "#### 🐎 `horses_2019.csv` (Horse-level data)\n",
    "\n",
    "| Column         | Missing | Notes |\n",
    "|----------------|---------|-------|\n",
    "| `saddle`       | 110     | Minor — not useful for us right now |\n",
    "| `positionL`    | 25,219  | Labelled version of `position` (e.g. “PU”, “F”) — might help with DNFs |\n",
    "| `dist`         | 42,476  | Distance behind winner — many missing, might not be reliable |\n",
    "| `overWeight` & `outHandicap` | 160K+ | Nearly all missing — likely not useful in this dataset |\n",
    "| `headGear`     | 108,472 | Not used in early models — fine to ignore for now |\n",
    "| `RPR`, `TR`, `OR` | 18–70K | Optional performance ratings — advanced features we may revisit |\n",
    "| `gfather`      | 170     | Missing only occasionally — not a priority\n",
    "\n",
    "✅ **No missing values** in `rid`, `horseName`, `age`, `position`, `odds`, `trainerName`, `jockeyName`, etc. — which are our core features.\n",
    "\n",
    "---\n",
    "\n",
    "### ✅ Summary\n",
    "\n",
    "- **Most essential columns are complete**\n",
    "- **Missing values are expected and manageable**\n",
    "- We can proceed with merging and structure checks\n",
    "\n",
    "Later notebooks can selectively ignore or impute these fields based on modelling needs.\n"
   ]
  },
  {
   "cell_type": "markdown",
   "id": "166accd8-6a36-4a46-bb16-a717208b28fc",
   "metadata": {},
   "source": [
    "## 🔍 Step 3: Data Integrity Checks\n",
    "\n",
    "Before we can trust our analysis or build any models, we need to verify that the data:\n",
    "\n",
    "- ✅ Contains what it claims to  \n",
    "- ✅ Matches expectations for a real racing dataset  \n",
    "- ✅ Hasn't silently corrupted during import or processing  \n",
    "\n",
    "These checks prevent **subtle bugs** from derailing our project months down the line.\n",
    "\n",
    "We’ll start by verifying the **date format**, since we’ve already spotted something odd with 2001 and 2031 appearing in a dataset that’s supposed to be from 2019.\n",
    "\n",
    "---\n",
    "\n",
    "### 📅 Check Date Range (Broken Parse?)\n",
    "\n",
    "Let’s first load the file *with* automatic date parsing\n",
    "\n",
    "\n"
   ]
  },
  {
   "cell_type": "code",
   "execution_count": 20,
   "id": "3f9eff05-0aee-4c69-adf7-5507dadd8acf",
   "metadata": {},
   "outputs": [
    {
     "name": "stdout",
     "output_type": "stream",
     "text": [
      "📅 Min date: 2001-01-19 00:00:00\n",
      "📅 Max date: 2031-12-19 00:00:00\n",
      "❓ Null date values: 0\n"
     ]
    },
    {
     "name": "stderr",
     "output_type": "stream",
     "text": [
      "C:\\Users\\Rob\\AppData\\Local\\Temp\\ipykernel_1728\\837074094.py:1: UserWarning: Could not infer format, so each element will be parsed individually, falling back to `dateutil`. To ensure parsing is consistent and as-expected, please specify a format.\n",
      "  races = pd.read_csv(\"data/races_2019.csv\", parse_dates=[\"date\"], dayfirst=True)\n"
     ]
    }
   ],
   "source": [
    "races = pd.read_csv(\"data/races_2019.csv\", parse_dates=[\"date\"], dayfirst=True)\n",
    "print(\"📅 Min date:\", races[\"date\"].min())\n",
    "print(\"📅 Max date:\", races[\"date\"].max())\n",
    "print(\"❓ Null date values:\", races[\"date\"].isna().sum())"
   ]
  },
  {
   "cell_type": "markdown",
   "id": "f9ffb7eb-2415-4757-82d5-ad13937fc5b1",
   "metadata": {},
   "source": [
    "That’s clearly wrong — the file is supposed to be from 2019. So we need to inspect the raw format.\n"
   ]
  },
  {
   "cell_type": "markdown",
   "id": "2cfed967-32e7-4d2e-bdab-89f911239797",
   "metadata": {},
   "source": [
    "### 🧪 Step 1: Reload Without Parsing\n",
    "\n",
    "To diagnose the date issue properly, we’ll go back and **reload the raw CSV without automatic date parsing**.\n",
    "\n",
    "This lets us inspect the original format directly, without Pandas making assumptions.\n",
    "\n",
    "Why this matters:\n",
    "\n",
    "- If the format is ambiguous (like `19/01/01`), Pandas might guess incorrectly\n",
    "- We want to verify whether it’s actually **year/month/day**, **day/month/year**, or something else\n",
    "- That way, we can manually parse it *correctly and consistently* ourselves\n",
    "\n",
    "Let’s look at the first few rows to see what we’re working with."
   ]
  },
  {
   "cell_type": "code",
   "execution_count": 22,
   "id": "53f353c9-0503-4906-b2a1-ab9ebf7ca3f3",
   "metadata": {},
   "outputs": [
    {
     "data": {
      "text/plain": [
       "0    19/01/01\n",
       "1    19/01/01\n",
       "2    19/01/01\n",
       "3    19/01/01\n",
       "4    19/01/01\n",
       "5    19/01/01\n",
       "6    19/01/01\n",
       "7    19/01/01\n",
       "8    19/01/01\n",
       "9    19/01/01\n",
       "Name: date, dtype: object"
      ]
     },
     "execution_count": 22,
     "metadata": {},
     "output_type": "execute_result"
    }
   ],
   "source": [
    "raw_races = pd.read_csv(\"data/races_2019.csv\")\n",
    "raw_races[\"date\"].head(10)"
   ]
  },
  {
   "cell_type": "markdown",
   "id": "0fad2d4d-bc82-46f2-8ec0-a6c2d6e2a196",
   "metadata": {},
   "source": [
    "That’s YY/MM/DD, but Pandas misinterpreted it as DD/MM/YY or YY/DD/MM earlier."
   ]
  },
  {
   "cell_type": "markdown",
   "id": "0a105ca5-b16f-4dcf-89c6-49ec4bd45d88",
   "metadata": {},
   "source": [
    "### 🧪 Step 2: Confirm Format (Month Range)\n",
    "\n",
    "We can’t just assume the format is `YY/MM/DD` — we need to test it.\n",
    "\n",
    "🔍 Why this matters:\n",
    "- If the **middle part** is >12, then it can’t be a valid month\n",
    "- That would suggest the parser guessed wrong (e.g. `YY/DD/MM` instead)\n",
    "\n",
    "🧪 Strategy:\n",
    "1. Convert the `date` column to strings (if not already)\n",
    "2. Slice out the **middle two characters** (position 3–5)\n",
    "3. Try to convert those to integers\n",
    "4. Flag any rows where that value is greater than 12\n",
    "\n",
    "If none exist, we can safely confirm:  \n",
    "✅ Format is `YY/MM/DD` (e.g. `19/01/01` = 1st Jan 2019)\n",
    "\n"
   ]
  },
  {
   "cell_type": "code",
   "execution_count": 24,
   "id": "9c607718-c5f1-49cd-a616-a0afa7db61a8",
   "metadata": {},
   "outputs": [
    {
     "data": {
      "text/plain": [
       "Series([], Name: date, dtype: object)"
      ]
     },
     "execution_count": 24,
     "metadata": {},
     "output_type": "execute_result"
    }
   ],
   "source": [
    "# Convert date column to string (in case it's datetime already)\n",
    "raw_dates = raw_races[\"date\"].astype(str)\n",
    "\n",
    "# Extract the middle two characters (presumed month)\n",
    "middle_values = raw_dates.str[3:5]\n",
    "\n",
    "# Check for any invalid month values (greater than 12)\n",
    "invalid_months = raw_dates[middle_values.astype(int) > 12]\n",
    "invalid_months\n"
   ]
  },
  {
   "cell_type": "markdown",
   "id": "d207c82f-9951-4a83-813e-e34cc7866495",
   "metadata": {},
   "source": [
    "### 🧪 Step 3: Parse Dates Explicitly (Now That We’re Confident)\n",
    "\n",
    "Now that we’ve confirmed the format is `YY/MM/DD` — and there are no invalid month values — we can **safely re-parse the column** using the correct format string.\n",
    "\n",
    "Why not rely on automatic parsing?\n",
    "\n",
    "- Pandas made a mistake earlier by guessing\n",
    "- When parsing is ambiguous, it's always better to be explicit\n",
    "\n",
    "We’ll now use:\n",
    "\n",
    "```python\n",
    "format=\"%y/%m/%d\"\n",
    "```\n",
    "\n",
    "That ensures dates like 19/01/01 are interpreted as 2019-01-01 — not 2001 or 2031."
   ]
  },
  {
   "cell_type": "code",
   "execution_count": 28,
   "id": "de066103-4416-49cf-be2f-c6385e82f6ed",
   "metadata": {},
   "outputs": [
    {
     "name": "stdout",
     "output_type": "stream",
     "text": [
      "📅 Min date: 2019-01-01 00:00:00\n",
      "📅 Max date: 2019-12-31 00:00:00\n"
     ]
    }
   ],
   "source": [
    "# Parse the date column correctly using explicit format\n",
    "races[\"date\"] = pd.to_datetime(raw_races[\"date\"], format=\"%y/%m/%d\", errors=\"raise\")\n",
    "\n",
    "# Check min/max again to confirm it's fixed\n",
    "print(\"📅 Min date:\", races[\"date\"].min())\n",
    "print(\"📅 Max date:\", races[\"date\"].max())"
   ]
  },
  {
   "cell_type": "markdown",
   "id": "ccbf9f5a-ac4a-4a8c-b477-dbd529be6f34",
   "metadata": {},
   "source": [
    "---\n",
    "\n",
    "### 🧪 Step 4: Validate Decimal Odds (`decimalPrice`)\n",
    "\n",
    "The `decimalPrice` column represents each horse’s **starting price (SP)** — i.e. the odds at which they started the race.\n",
    "\n",
    "📌 Why this matters:\n",
    "- These prices reflect the **market’s belief** about a horse’s chance of winning\n",
    "- We’ll convert them into **implied probabilities** later for modelling and analysis\n",
    "- If they’re missing, zero, or negative, it breaks everything\n",
    "\n",
    "🎯 What we’re checking:\n",
    "1. Are any odds **missing or null**?\n",
    "2. Are there any **zero or negative values** (which would be invalid)?\n",
    "3. Are any values **suspiciously low or high**?\n",
    "\n",
    "Let’s inspect the data now.\n"
   ]
  },
  {
   "cell_type": "code",
   "execution_count": 31,
   "id": "7ce2241b-4847-4e7e-a3e0-3d43ac2f830b",
   "metadata": {},
   "outputs": [
    {
     "name": "stdout",
     "output_type": "stream",
     "text": [
      "❓ Missing odds: 0\n",
      "❗ Zero or negative odds: 0\n",
      "📊 Odds range:\n",
      "Min: 0.0017667844522968\n",
      "Max: 0.9615384615384616\n"
     ]
    },
    {
     "data": {
      "text/html": [
       "<div>\n",
       "<style scoped>\n",
       "    .dataframe tbody tr th:only-of-type {\n",
       "        vertical-align: middle;\n",
       "    }\n",
       "\n",
       "    .dataframe tbody tr th {\n",
       "        vertical-align: top;\n",
       "    }\n",
       "\n",
       "    .dataframe thead th {\n",
       "        text-align: right;\n",
       "    }\n",
       "</style>\n",
       "<table border=\"1\" class=\"dataframe\">\n",
       "  <thead>\n",
       "    <tr style=\"text-align: right;\">\n",
       "      <th></th>\n",
       "      <th>rid</th>\n",
       "      <th>horseName</th>\n",
       "      <th>age</th>\n",
       "      <th>saddle</th>\n",
       "      <th>decimalPrice</th>\n",
       "      <th>isFav</th>\n",
       "      <th>trainerName</th>\n",
       "      <th>jockeyName</th>\n",
       "      <th>position</th>\n",
       "      <th>positionL</th>\n",
       "      <th>...</th>\n",
       "      <th>TR</th>\n",
       "      <th>OR</th>\n",
       "      <th>father</th>\n",
       "      <th>mother</th>\n",
       "      <th>gfather</th>\n",
       "      <th>runners</th>\n",
       "      <th>margin</th>\n",
       "      <th>weight</th>\n",
       "      <th>res_win</th>\n",
       "      <th>res_place</th>\n",
       "    </tr>\n",
       "  </thead>\n",
       "  <tbody>\n",
       "  </tbody>\n",
       "</table>\n",
       "<p>0 rows × 27 columns</p>\n",
       "</div>"
      ],
      "text/plain": [
       "Empty DataFrame\n",
       "Columns: [rid, horseName, age, saddle, decimalPrice, isFav, trainerName, jockeyName, position, positionL, dist, weightSt, weightLb, overWeight, outHandicap, headGear, RPR, TR, OR, father, mother, gfather, runners, margin, weight, res_win, res_place]\n",
       "Index: []\n",
       "\n",
       "[0 rows x 27 columns]"
      ]
     },
     "execution_count": 31,
     "metadata": {},
     "output_type": "execute_result"
    }
   ],
   "source": [
    "# Load horses data if not already\n",
    "horses = pd.read_csv(\"data/raw/horses_2019.csv\")\n",
    "\n",
    "# Check for missing or invalid decimal odds\n",
    "print(\"❓ Missing odds:\", horses[\"decimalPrice\"].isna().sum())\n",
    "print(\"❗ Zero or negative odds:\", (horses[\"decimalPrice\"] <= 0).sum())\n",
    "\n",
    "# Check overall range of values\n",
    "print(\"📊 Odds range:\")\n",
    "print(\"Min:\", horses[\"decimalPrice\"].min())\n",
    "print(\"Max:\", horses[\"decimalPrice\"].max())\n",
    "\n",
    "# Optional: View very high odds (e.g. 100+)\n",
    "horses[horses[\"decimalPrice\"] > 100].sort_values(\"decimalPrice\", ascending=False).head()"
   ]
  },
  {
   "cell_type": "markdown",
   "id": "5c5551ee-da81-48df-a7c0-3b311f03e1a8",
   "metadata": {},
   "source": [
    "---\n",
    "\n",
    "### ⚠️ Unexpected Finding: `decimalPrice` May Not Be Odds at All\n",
    "\n",
    "We assumed the `decimalPrice` column contained **decimal starting prices (SPs)** — i.e. odds like 5.0, 10.0, etc.\n",
    "\n",
    "But our checks showed:\n",
    "\n",
    "- ✅ No missing or negative values\n",
    "- ❌ All values are **less than 1**\n",
    "- 📉 Minimum: ~0.0017, Maximum: ~0.96\n",
    "\n",
    "This is **impossible** if they’re odds, since odds can’t be below 1.0 — not even for the favourite in a 1-horse race.\n",
    "\n",
    "🧠 **Interpretation:**\n",
    "These values are likely **already implied probabilities** (i.e. `1 / odds`), but the column was mislabelled as `decimalPrice`.\n",
    "\n",
    "We’ll test this by calculating the **inverse** of the values and inspecting the results.\n",
    "\n",
    "If we find values in the expected range (e.g. odds of 3.0 to 100+), that will confirm the mistake.\n",
    "\n",
    "---\n"
   ]
  },
  {
   "cell_type": "code",
   "execution_count": 32,
   "id": "b9ae15c5-2d62-496c-835e-10ab8688b800",
   "metadata": {},
   "outputs": [
    {
     "name": "stdout",
     "output_type": "stream",
     "text": [
      "📈 Mean decimalPrice: 0.12002575950098471\n"
     ]
    },
    {
     "data": {
      "text/plain": [
       "count    171849.000000\n",
       "mean         22.857245\n",
       "std          31.782141\n",
       "min           1.040000\n",
       "25%           6.100000\n",
       "50%          12.000000\n",
       "75%          26.000000\n",
       "max         566.000000\n",
       "Name: decimal_odds_estimate, dtype: float64"
      ]
     },
     "execution_count": 32,
     "metadata": {},
     "output_type": "execute_result"
    }
   ],
   "source": [
    "# Quick check: what's the average?\n",
    "print(\"📈 Mean decimalPrice:\", horses[\"decimalPrice\"].mean())\n",
    "\n",
    "# What if we convert back to decimal odds?\n",
    "horses[\"decimal_odds_estimate\"] = 1 / horses[\"decimalPrice\"]\n",
    "horses[\"decimal_odds_estimate\"].describe()\n"
   ]
  },
  {
   "cell_type": "markdown",
   "id": "5189d38c-56c6-4a45-8760-dbe7d15ce2c9",
   "metadata": {},
   "source": [
    "#### ✅ Confirmed: `decimalPrice` = Implied Probability (Mislabelled)\n",
    "\n",
    "Upon inspection, we realised the `decimalPrice` column does not contain decimal odds, but rather **implied probabilities** (i.e. `1 / odds` already applied).\n",
    "\n",
    "To confirm this, we computed inverse values and found:\n",
    "\n",
    "- Mean odds: ~22.9  \n",
    "- Median odds: ~12.0  \n",
    "- Max odds: 566.0  \n",
    "\n",
    "These are consistent with typical horse racing prices and confirm the column was **mislabelled**.\n",
    "\n",
    "📌 To avoid confusion, we renamed the column in memory to `implied_prob`.\n",
    "\n",
    "We also performed a validation check to ensure it behaves like a proper probability:\n",
    "\n",
    "- ✅ No missing values  \n",
    "- ✅ All values fall in the valid range `0 < p ≤ 1`  \n",
    "- ✅ Distribution and extremes are realistic (e.g. strong favourites have high values)\n",
    "\n"
   ]
  },
  {
   "cell_type": "code",
   "execution_count": 50,
   "id": "0d006978-115c-471d-b570-5d393f85d3a9",
   "metadata": {},
   "outputs": [
    {
     "name": "stdout",
     "output_type": "stream",
     "text": [
      "Data type: float64\n",
      "Null values: 0\n",
      "\n",
      "Values <= 0: 0\n",
      "Values > 1: 0\n",
      "\n",
      "Summary statistics:\n",
      "count    171849.000000\n",
      "mean          0.120026\n",
      "std           0.118543\n",
      "min           0.001767\n",
      "25%           0.038462\n",
      "50%           0.083333\n",
      "75%           0.163934\n",
      "max           0.961538\n",
      "Name: implied_prob, dtype: float64\n",
      "\n",
      "Top 5 implied probabilities:\n",
      "156790    0.961538\n",
      "44209     0.961538\n",
      "154008    0.961538\n",
      "147691    0.961538\n",
      "117495    0.952381\n",
      "Name: implied_prob, dtype: float64\n",
      "\n",
      "Bottom 5 implied probabilities:\n",
      "40793     0.001767\n",
      "59681     0.001767\n",
      "76062     0.001996\n",
      "114180    0.001996\n",
      "168344    0.001996\n",
      "Name: implied_prob, dtype: float64\n"
     ]
    }
   ],
   "source": [
    "# Rename and Validate decimalPrice → implied_prob\n",
    "\n",
    "# Rename column in memory\n",
    "horses.rename(columns={'decimalPrice': 'implied_prob'}, inplace=True)\n",
    "\n",
    "# Data type and null check\n",
    "print(\"Data type:\", horses['implied_prob'].dtype)\n",
    "print(\"Null values:\", horses['implied_prob'].isnull().sum())\n",
    "\n",
    "# Range checks\n",
    "print(\"\\nValues <= 0:\", (horses['implied_prob'] <= 0).sum())\n",
    "print(\"Values > 1:\", (horses['implied_prob'] > 1).sum())\n",
    "\n",
    "# Summary stats\n",
    "print(\"\\nSummary statistics:\")\n",
    "print(horses['implied_prob'].describe())\n",
    "\n",
    "# Optional: look at extremes\n",
    "print(\"\\nTop 5 implied probabilities:\")\n",
    "print(horses['implied_prob'].sort_values(ascending=False).head())\n",
    "\n",
    "print(\"\\nBottom 5 implied probabilities:\")\n",
    "print(horses['implied_prob'].sort_values().head())"
   ]
  },
  {
   "cell_type": "markdown",
   "id": "571137f9-a813-4ba8-8901-9fbb8647b892",
   "metadata": {},
   "source": [
    "#### ✅ Confirmed: `decimalPrice` = Implied Probability (Mislabelled)\n",
    "\n",
    "Upon inspection, we realised the `decimalPrice` column does not contain decimal odds, but rather **implied probabilities** (i.e. `1 / odds` already applied).\n",
    "\n",
    "To confirm this, we computed the inverse and found:\n",
    "\n",
    "- Mean odds: ~22.9  \n",
    "- Median odds: ~12.0  \n",
    "- Max odds: 566.0  \n",
    "\n",
    "These figures match typical horse racing markets and confirm the column was mislabelled.\n",
    "\n",
    "📌 We renamed this column in memory to `implied_prob` to reflect its actual contents.\n",
    "\n",
    "We then validated its integrity:\n",
    "\n",
    "- ✅ No missing values (`nulls = 0`)\n",
    "- ✅ All values fall in the valid range `0 < p ≤ 1`\n",
    "- ✅ Summary:\n",
    "  - Mean: 0.120\n",
    "  - Median: 0.083\n",
    "  - Max: 0.962 (strong favourite)\n",
    "  - Min: 0.0018 (longshot)\n",
    "\n",
    "✅ This column is clean and ready to use as a key input feature for modelling.\n"
   ]
  },
  {
   "cell_type": "markdown",
   "id": "70c2052b-901d-4a82-9e81-28f08fb3991c",
   "metadata": {},
   "source": [
    "### 🔎 Step 5 – Data Integrity Check: `position` Column\n",
    "\n",
    "#### 📘 Description:\n",
    "The `position` column is expected to contain the finishing place of each horse in a given race. For modelling purposes, it is crucial to verify that this column is well-structured and clean.\n",
    "\n",
    "We aim to check:\n",
    "\n",
    "- Whether all entries are present (i.e. no missing values).\n",
    "- Whether the data is in a consistent and expected format.\n",
    "- Whether there are any non-numeric values or placeholders (e.g. `\"PU\"`, `\"UR\"`, `\"WD\"`, `\"DNF\"`).\n",
    "- Whether the data type is appropriate for numerical comparisons.\n",
    "\n",
    "\n"
   ]
  },
  {
   "cell_type": "code",
   "execution_count": 37,
   "id": "96f64a27-01b9-4d78-a731-a67dd991d7ec",
   "metadata": {},
   "outputs": [
    {
     "name": "stdout",
     "output_type": "stream",
     "text": [
      "Data type and null count:\n",
      "int64\n",
      "Null values: 0\n",
      "\n",
      "Unique values in 'position' column:\n",
      "[ 1  2  3  4  5  6  7  8  9 10 11 12 13 40 14 15 16 17 18 19 20 21 22 23\n",
      " 24 25 26 27 28 29 30]\n",
      "\n",
      "Value counts (including possible edge cases):\n",
      "position\n",
      "1     17260\n",
      "2     17233\n",
      "3     17148\n",
      "4     16845\n",
      "5     16109\n",
      "6     14809\n",
      "7     13194\n",
      "8     11426\n",
      "9      9639\n",
      "40     8033\n",
      "10     7979\n",
      "11     6473\n",
      "12     5108\n",
      "13     3607\n",
      "14     2617\n",
      "15     1547\n",
      "16     1085\n",
      "17      590\n",
      "18      389\n",
      "19      224\n",
      "20      154\n",
      "21      113\n",
      "22       90\n",
      "23       62\n",
      "24       44\n",
      "25       25\n",
      "26       15\n",
      "27       13\n",
      "28        9\n",
      "29        5\n",
      "30        4\n",
      "Name: count, dtype: int64\n"
     ]
    }
   ],
   "source": [
    "# Step 5 – Data Integrity Check: position Column\n",
    "\n",
    "# Basic data type and null check\n",
    "print(\"Data type and null count:\")\n",
    "print(horses['position'].dtype)\n",
    "print(\"Null values:\", horses['position'].isnull().sum())\n",
    "\n",
    "# Display unique values\n",
    "print(\"\\nUnique values in 'position' column:\")\n",
    "print(horses['position'].unique())\n",
    "\n",
    "# Frequency counts of each unique value\n",
    "print(\"\\nValue counts (including possible edge cases):\")\n",
    "print(horses['position'].value_counts(dropna=False))\n",
    "\n"
   ]
  },
  {
   "cell_type": "markdown",
   "id": "3ff726c5-f7f3-40c9-98f3-72e15997b014",
   "metadata": {},
   "source": [
    "#### 🔍 Findings:\n",
    "\n",
    "- The `position` column contains **no missing values** and is of type `int64`, which is appropriate for ranking or sorting.\n",
    "- All entries are numeric and positive integers, as expected.\n",
    "- The vast majority of values fall within the expected range for typical flat races (1st–20th), though we observe a **notable spike at position `40`**, which appears **8,033 times** — significantly more frequent than positions 10–30.\n",
    "\n",
    "This strongly suggests that `40` is a **placeholder code** rather than a true finishing position — likely representing horses that did not finish, were withdrawn, or otherwise excluded from the final rankings.\n",
    "\n",
    "We will investigate the meaning of `40` and decide how to handle it in the next sub-step of the pipeline.\n"
   ]
  },
  {
   "cell_type": "markdown",
   "id": "6bb3bd11-7d46-49e4-8a32-7b084d1b2fd9",
   "metadata": {},
   "source": [
    "#### ✅ Decision:\n",
    "\n",
    "To preserve the integrity of the `position` column as a numeric type, while marking invalid results like non-finishers:\n",
    "\n",
    "- We will replace all instances of `position == 40` with `NaN`.\n",
    "- This avoids falsely implying a horse finished in 40th place.\n",
    "- The column will become `float64` (due to how pandas handles missing numeric data).\n",
    "- This approach keeps modelling pipelines clean and compatible with numeric operations.\n"
   ]
  },
  {
   "cell_type": "code",
   "execution_count": 39,
   "id": "1d73fb6c-f97f-49d9-95ef-c61fd76ef678",
   "metadata": {},
   "outputs": [
    {
     "name": "stdout",
     "output_type": "stream",
     "text": [
      "position\n",
      "1.0     17260\n",
      "2.0     17233\n",
      "3.0     17148\n",
      "4.0     16845\n",
      "5.0     16109\n",
      "6.0     14809\n",
      "7.0     13194\n",
      "8.0     11426\n",
      "9.0      9639\n",
      "NaN      8033\n",
      "10.0     7979\n",
      "11.0     6473\n",
      "12.0     5108\n",
      "13.0     3607\n",
      "14.0     2617\n",
      "15.0     1547\n",
      "16.0     1085\n",
      "17.0      590\n",
      "18.0      389\n",
      "19.0      224\n",
      "20.0      154\n",
      "21.0      113\n",
      "22.0       90\n",
      "23.0       62\n",
      "24.0       44\n",
      "25.0       25\n",
      "26.0       15\n",
      "27.0       13\n",
      "28.0        9\n",
      "29.0        5\n",
      "30.0        4\n",
      "Name: count, dtype: int64\n",
      "float64\n"
     ]
    }
   ],
   "source": [
    "import numpy as np\n",
    "\n",
    "# Replace 40s with NaN\n",
    "horses['position'] = horses['position'].replace(40, np.nan)\n",
    "\n",
    "\n",
    "# Confirm changes\n",
    "print(horses['position'].value_counts(dropna=False))\n",
    "print(horses.dtypes['position'])  # Should now be float64\n"
   ]
  },
  {
   "cell_type": "markdown",
   "id": "d1118fcb-33c4-46bc-a249-b10558969cf9",
   "metadata": {},
   "source": [
    "#### ✅ Summary – Step 5\n",
    "\n",
    "- We confirmed that `position == 40` was a placeholder for non-finishers.\n",
    "- All such values have been replaced with `NaN` to make their meaning explicit.\n",
    "- This preserves the column as a numeric type (`float64`), ensuring compatibility with ranking, sorting, and modelling.\n",
    "- No valid finisher data was removed — all rows are retained.\n",
    "- We will treat `NaN` values in `position` as clear indicators of non-finishers in all downstream steps.\n"
   ]
  },
  {
   "cell_type": "markdown",
   "id": "2075e056-462a-4579-aa2c-3f3a89717930",
   "metadata": {},
   "source": [
    "### 🔎 Step 6 – Data Integrity Check: `rid` Column\n",
    "\n",
    "#### 📘 Description:\n",
    "The `rid` column links each horse entry to a specific race. It is a **crucial foreign key** for grouping horses into races and merging with race-level data.\n",
    "\n",
    "We want to ensure:\n",
    "\n",
    "- Each `rid` exists and is not null.\n",
    "- There are no obviously invalid values (e.g. negative IDs, duplicates with conflicting context).\n",
    "- It is consistent across datasets (i.e. `rid` in `horses` must match with those in the `races` table).\n",
    "\n",
    "This check will focus on uniqueness, completeness, and basic structure.\n"
   ]
  },
  {
   "cell_type": "code",
   "execution_count": 42,
   "id": "38fe1c38-6891-4412-a6ad-959484b74afe",
   "metadata": {},
   "outputs": [
    {
     "name": "stdout",
     "output_type": "stream",
     "text": [
      "Data type: int64\n",
      "Null values: 0\n",
      "Unique race IDs in horses: 17233\n",
      "Race IDs <= 0: 0\n",
      "Horse race IDs not found in races table: 0\n"
     ]
    }
   ],
   "source": [
    "# Step 6 – Data Integrity Check: rid Column\n",
    "\n",
    "# Basic info\n",
    "print(\"Data type:\", horses['rid'].dtype)\n",
    "print(\"Null values:\", horses['rid'].isnull().sum())\n",
    "\n",
    "# Unique value count\n",
    "print(\"Unique race IDs in horses:\", horses['rid'].nunique())\n",
    "\n",
    "# Check for negative or zero race IDs\n",
    "print(\"Race IDs <= 0:\", (horses['rid'] <= 0).sum())\n",
    "\n",
    "# Are all horse race IDs also in races dataset?\n",
    "missing_in_races = ~horses['rid'].isin(races['rid'])\n",
    "print(\"Horse race IDs not found in races table:\", missing_in_races.sum())\n",
    "\n"
   ]
  },
  {
   "cell_type": "markdown",
   "id": "18e0e50b-901e-4661-babc-ebe0bfa08146",
   "metadata": {},
   "source": [
    "#### ✅ Summary – Step 6: `rid` (Race ID) Column\n",
    "\n",
    "- `rid` is present in all rows (no missing values).\n",
    "- All values are valid integers (`int64`) and strictly positive.\n",
    "- There are 17,233 unique race IDs in the `horses` dataset.\n",
    "- Every `rid` in `horses` is also present in the `races` dataset — confirming referential integrity between the two tables.\n",
    "\n",
    "✅ This column is clean and ready for use in grouping, joining, or aggregating horses by race."
   ]
  },
  {
   "cell_type": "markdown",
   "id": "7d4e1b6a-a95f-4361-bc1b-5b4700fb5781",
   "metadata": {},
   "source": [
    "### 🔎 Step 7 – Data Integrity Check: `horseName` Column\n",
    "\n",
    "#### 📘 Description:\n",
    "The `horseName` column provides the unique name of each horse entry. It is critical for:\n",
    "\n",
    "- Identifying individual horses within and across races.\n",
    "- Preventing duplicates or confusion when aggregating results or building horse-specific features.\n",
    "\n",
    "In this step, we will check:\n",
    "\n",
    "- That all entries are non-null.\n",
    "- That names appear in a consistent format (e.g. no trailing whitespace, case issues, or strange symbols).\n",
    "- Whether any unexpected duplicates or anomalies exist.\n"
   ]
  },
  {
   "cell_type": "code",
   "execution_count": 45,
   "id": "5aac5d8c-36f4-4625-952d-06c0d3e2ce2c",
   "metadata": {},
   "outputs": [
    {
     "name": "stdout",
     "output_type": "stream",
     "text": [
      "Data type: object\n",
      "Null values: 0\n",
      "Unique horse names: 41241\n",
      "\n",
      "Most common horse names:\n",
      "horseName\n",
      "Red Stripes        33\n",
      "Zapper Cass        28\n",
      "Celerity           27\n",
      "Pearl Spectre      27\n",
      "Catapult           27\n",
      "Caledonian Gold    27\n",
      "Contingency Fee    26\n",
      "Alicia Darcy       26\n",
      "B Fifty Two        26\n",
      "Tavener            25\n",
      "Name: count, dtype: int64\n",
      "\n",
      "Horse names with leading/trailing whitespace: 0\n"
     ]
    }
   ],
   "source": [
    "# Step 7 – Data Integrity Check: horseName Column\n",
    "\n",
    "# Basic info\n",
    "print(\"Data type:\", horses['horseName'].dtype)\n",
    "print(\"Null values:\", horses['horseName'].isnull().sum())\n",
    "\n",
    "# How many unique horse names?\n",
    "print(\"Unique horse names:\", horses['horseName'].nunique())\n",
    "\n",
    "# Most common names (possible duplication or missing disambiguation?)\n",
    "print(\"\\nMost common horse names:\")\n",
    "print(horses['horseName'].value_counts().head(10))\n",
    "\n",
    "# Check for leading/trailing whitespace\n",
    "has_whitespace = horses['horseName'].str.contains(r'^\\s+|\\s+$')\n",
    "print(\"\\nHorse names with leading/trailing whitespace:\", has_whitespace.sum())\n"
   ]
  },
  {
   "cell_type": "markdown",
   "id": "2e7e1adc-0ba7-4275-9321-6fe8ae3fa9d0",
   "metadata": {},
   "source": [
    "#### ✅ Summary – Step 7: `horseName` Column\n",
    "\n",
    "- All rows have a non-null `horseName` value.\n",
    "- The column is stored as `object` (string), as expected.\n",
    "- There are 41,241 unique horse names in the dataset.\n",
    "- A small number of names appear 25+ times — the most frequent being *Red Stripes* (33 entries).\n",
    "- We manually verified that *Red Stripes* ran 33 times in 2019, confirming the data is accurate and does not reflect duplication or name reuse.\n",
    "- No names contain leading or trailing whitespace.\n",
    "\n",
    "✅ The `horseName` column is clean and valid. No further cleaning is required.\n"
   ]
  },
  {
   "cell_type": "markdown",
   "id": "dc068d4c-8824-4db2-84f1-3c515aa7832d",
   "metadata": {},
   "source": [
    "### 🔎 Step 8 – Data Integrity Check: `age` Column\n",
    "\n",
    "#### 📘 Description:\n",
    "The `age` column represents the age of each horse on race day. This is a critical feature for:\n",
    "\n",
    "- Filtering races (e.g. age-restricted events like the Derby).\n",
    "- Analysing horse development and performance over time.\n",
    "- Engineering meaningful features for modelling (e.g. age-relative performance).\n",
    "\n",
    "In this step, we will check:\n",
    "\n",
    "- That all entries are non-null and numeric.\n",
    "- That all values fall within an expected range (e.g. 2 to 15 for UK flat racing).\n",
    "- Whether any outliers, inconsistencies, or formatting issues are present.\n"
   ]
  },
  {
   "cell_type": "code",
   "execution_count": 46,
   "id": "346d7960-c1ce-4858-bb17-e013f018e13b",
   "metadata": {},
   "outputs": [
    {
     "name": "stdout",
     "output_type": "stream",
     "text": [
      "Data type: float64\n",
      "Null values: 0\n",
      "Unique age values: [2.0, 3.0, 4.0, 5.0, 6.0, 7.0, 8.0, 9.0, 10.0, 11.0, 12.0, 13.0, 14.0, 15.0, 16.0]\n",
      "\n",
      "Age distribution:\n",
      "age\n",
      "2.0     17960\n",
      "3.0     38253\n",
      "4.0     32792\n",
      "5.0     27323\n",
      "6.0     21572\n",
      "7.0     13224\n",
      "8.0      8696\n",
      "9.0      5614\n",
      "10.0     3436\n",
      "11.0     1806\n",
      "12.0      784\n",
      "13.0      270\n",
      "14.0      100\n",
      "15.0        7\n",
      "16.0       12\n",
      "Name: count, dtype: int64\n"
     ]
    }
   ],
   "source": [
    "# Step 8 – Data Integrity Check: age Column\n",
    "\n",
    "# Basic info\n",
    "print(\"Data type:\", horses['age'].dtype)\n",
    "print(\"Null values:\", horses['age'].isnull().sum())\n",
    "\n",
    "# Unique age values\n",
    "print(\"Unique age values:\", sorted(horses['age'].unique()))\n",
    "\n",
    "# Value counts\n",
    "print(\"\\nAge distribution:\")\n",
    "print(horses['age'].value_counts().sort_index())\n"
   ]
  },
  {
   "cell_type": "markdown",
   "id": "d35eeb4a-4ea7-4248-9deb-7c88e383066d",
   "metadata": {},
   "source": [
    "#### ✅ Summary – Step 8: `age` Column\n",
    "\n",
    "- All entries in the `age` column are present and numeric (`float64`).\n",
    "- Age values range from 2.0 to 16.0.\n",
    "- The distribution is realistic, with the majority of horses aged 2–8.\n",
    "- A small number of entries exist for horses aged 15 (7 entries) and 16 (12 entries).\n",
    "\n",
    "While this initially appeared unusual, we verified real-world examples with a quick google serach — including *Megalala*, a 16-year-old flat racer — confirming that such cases, though rare, are valid.\n",
    "\n",
    "✅ The `age` column is clean and trustworthy, and all values will be retained.\n"
   ]
  }
 ],
 "metadata": {
  "kernelspec": {
   "display_name": "Python 3 (ipykernel)",
   "language": "python",
   "name": "python3"
  },
  "language_info": {
   "codemirror_mode": {
    "name": "ipython",
    "version": 3
   },
   "file_extension": ".py",
   "mimetype": "text/x-python",
   "name": "python",
   "nbconvert_exporter": "python",
   "pygments_lexer": "ipython3",
   "version": "3.12.7"
  }
 },
 "nbformat": 4,
 "nbformat_minor": 5
}
